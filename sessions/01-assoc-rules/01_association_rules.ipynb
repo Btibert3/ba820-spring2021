{
  "nbformat": 4,
  "nbformat_minor": 0,
  "metadata": {
    "colab": {
      "name": "01-association-rules",
      "private_outputs": true,
      "provenance": [],
      "collapsed_sections": []
    },
    "kernelspec": {
      "name": "python3",
      "display_name": "Python 3"
    }
  },
  "cells": [
    {
      "cell_type": "code",
      "metadata": {
        "id": "2TTWFTnhiB3h"
      },
      "source": [
        "# installs\n",
        "# pip install mlxtend"
      ],
      "execution_count": null,
      "outputs": []
    },
    {
      "cell_type": "code",
      "metadata": {
        "id": "1Uvt1PtWh6oG"
      },
      "source": [
        "# imports\n",
        "import numpy as np\n",
        "import pandas as pd\n",
        "import seaborn as sns\n",
        "import matplotlib.pyplot as plt\n",
        "import plotly.express as px\n",
        "\n",
        "from mlxtend.frequent_patterns import apriori, association_rules\n",
        "\n",
        "# my project in Google Cloud used\n",
        "PROJECT = \"questrom\""
      ],
      "execution_count": null,
      "outputs": []
    },
    {
      "cell_type": "code",
      "metadata": {
        "id": "c7FmfgbCiZX3"
      },
      "source": [
        "# auth against your BU GCP account \n",
        "\n",
        "# for colab\n",
        "# from google.colab import auth\n",
        "# auth.authenticate_user()\n",
        "# print('Authenticated')"
      ],
      "execution_count": null,
      "outputs": []
    },
    {
      "cell_type": "code",
      "metadata": {
        "id": "I0i9NEjZh71z"
      },
      "source": [
        "# EXERCISE: get the data from Big Query\n",
        "# select all the records from \n",
        "# `questrom.datasets.groceries`\n",
        "\n"
      ],
      "execution_count": null,
      "outputs": []
    },
    {
      "cell_type": "code",
      "metadata": {
        "id": "eA0vO2STh77B"
      },
      "source": [
        "# quick look\n"
      ],
      "execution_count": null,
      "outputs": []
    },
    {
      "cell_type": "code",
      "metadata": {
        "id": "yD75RzlBK_Hl"
      },
      "source": [
        "# first few rows\n"
      ],
      "execution_count": null,
      "outputs": []
    },
    {
      "cell_type": "markdown",
      "metadata": {
        "id": "PAXnG4RfLDq1"
      },
      "source": [
        "#### Data Dictionary\n",
        "\n",
        "- tid = transaction id\n",
        "- item = the product"
      ]
    },
    {
      "cell_type": "code",
      "metadata": {
        "id": "fx4phJ1Kh7-q"
      },
      "source": [
        "## QUICK EXERCISE:\n",
        "## take 3 minutes, how many unique transactions \n",
        "## and items?\n",
        "## are there any duplicates?\n",
        "\n"
      ],
      "execution_count": null,
      "outputs": []
    },
    {
      "cell_type": "code",
      "metadata": {
        "id": "y_-_0fqzQwSw"
      },
      "source": [
        "### its worth noting that I tend to like this tidy format\n",
        "### its easy to filter on a transaction and clearly see the detail\n",
        "### it also works great when we have an element of time/sequence in our datasets"
      ],
      "execution_count": null,
      "outputs": []
    },
    {
      "cell_type": "code",
      "metadata": {
        "id": "bYCr4CdQh8CR"
      },
      "source": [
        "## put the data into transaction format\n",
        "## note that mlxtend wants a 1 row per transaction and 1-hot layout\n",
        "\n",
        "# when we pivot, the intersections will be True\n",
        "# groceries['purchase'] = True\n",
        "\n",
        "# tx = groceries.pivot(index=\"tid\", columns=\"item\", values=\"purchase\")"
      ],
      "execution_count": null,
      "outputs": []
    },
    {
      "cell_type": "code",
      "metadata": {
        "id": "bRs2uUoNL8cH"
      },
      "source": [
        "# what do we have\n"
      ],
      "execution_count": null,
      "outputs": []
    },
    {
      "cell_type": "code",
      "metadata": {
        "id": "fKQELJeXMDHI"
      },
      "source": [
        ""
      ],
      "execution_count": null,
      "outputs": []
    },
    {
      "cell_type": "code",
      "metadata": {
        "id": "ytGrOHieMLQJ"
      },
      "source": [
        "# we need to fill in the missings, which is easy with pandas\n",
        "# tx.fillna(value=False, inplace=True)\n",
        "# tx.head(3)"
      ],
      "execution_count": null,
      "outputs": []
    },
    {
      "cell_type": "code",
      "metadata": {
        "id": "AEuwxYH7RPYj"
      },
      "source": [
        "# plot the items per transaction\n",
        "# item_count = tx.sum(axis=1)\n",
        "\n",
        "# print(item_count.shape)\n",
        "\n",
        "# item_count.value_counts(ascending=False).plot(kind=\"bar\")"
      ],
      "execution_count": null,
      "outputs": []
    },
    {
      "cell_type": "code",
      "metadata": {
        "id": "MM_Lp3I-RPS3"
      },
      "source": [
        "## why does this help us understand the dataset?"
      ],
      "execution_count": null,
      "outputs": []
    },
    {
      "cell_type": "code",
      "metadata": {
        "id": "vx9BAFqgRPKu"
      },
      "source": [
        "# understanding how often a product exists will help us with pruning\n",
        "# item_freq = tx.sum(axis=0)\n",
        "\n",
        "# print(item_freq.shape)\n",
        "\n",
        "# # normalize against all transactions\n",
        "# item_freq = item_freq / len(tx)\n",
        "\n",
        "# # plot\n",
        "# sns.histplot(item_freq)"
      ],
      "execution_count": null,
      "outputs": []
    },
    {
      "cell_type": "code",
      "metadata": {
        "id": "eRNQQJ7BVLo0"
      },
      "source": [
        "# summarize the distro with describe\n"
      ],
      "execution_count": null,
      "outputs": []
    },
    {
      "cell_type": "code",
      "metadata": {
        "id": "lGKsJ350S2TR"
      },
      "source": [
        "## what does this tell us about suppport settings?"
      ],
      "execution_count": null,
      "outputs": []
    },
    {
      "cell_type": "code",
      "metadata": {
        "id": "UVs_G0pGS2Y1"
      },
      "source": [
        "## QUICK EXERCISE:  What are the top 5 products?\n",
        "\n"
      ],
      "execution_count": null,
      "outputs": []
    },
    {
      "cell_type": "code",
      "metadata": {
        "id": "aeXozQmEh8Fv"
      },
      "source": [
        "# apply the apriori algorithm to the dataset\n",
        "# itemsets = apriori(tx, min_support=.003, use_colnames=True)"
      ],
      "execution_count": null,
      "outputs": []
    },
    {
      "cell_type": "code",
      "metadata": {
        "id": "M9V4XZRBVEk5"
      },
      "source": [
        "# what do we have?\n"
      ],
      "execution_count": null,
      "outputs": []
    },
    {
      "cell_type": "code",
      "metadata": {
        "id": "udGFxuqXWMbG"
      },
      "source": [
        ""
      ],
      "execution_count": null,
      "outputs": []
    },
    {
      "cell_type": "code",
      "metadata": {
        "id": "KvoTHNkdh8P3"
      },
      "source": [
        "## lets fit our first assoc rules model!\n",
        "## http://rasbt.github.io/mlxtend/api_subpackages/mlxtend.frequent_patterns/\n",
        "\n",
        "## leaving confidence low to demonstrate rule evaluation\n"
      ],
      "execution_count": null,
      "outputs": []
    },
    {
      "cell_type": "code",
      "metadata": {
        "id": "AjSbE6asZz8j"
      },
      "source": [
        "# what do we have\n"
      ],
      "execution_count": null,
      "outputs": []
    },
    {
      "cell_type": "code",
      "metadata": {
        "id": "PSrxhji-Zz42"
      },
      "source": [
        "# first few\n"
      ],
      "execution_count": null,
      "outputs": []
    },
    {
      "cell_type": "code",
      "metadata": {
        "id": "6uC7h4WFZzy2"
      },
      "source": [
        "# mlxtend uses frozensets, whichm are sets but immutable\n",
        "\n",
        "# lets look for the RHS that hsa bottled water\n",
        "\n",
        "# rules.loc[rules.consequents == {'bottled water'}, :].head()"
      ],
      "execution_count": null,
      "outputs": []
    },
    {
      "cell_type": "code",
      "metadata": {
        "id": "U9NSibYWjQR8"
      },
      "source": [
        "## Exercise:  5 minutes, think about the following questions\n",
        "##   how many rules were created\n",
        "##   what is the range of lift values\n",
        "##   what is the average rule size (how many items)\n",
        "##      HINT:  lambdas \n",
        "##   plot (barplot) of rule sizes\n",
        "\n"
      ],
      "execution_count": null,
      "outputs": []
    },
    {
      "cell_type": "code",
      "metadata": {
        "id": "Ybs6RRMVjYhA"
      },
      "source": [
        "## barplot of rule sizes\n"
      ],
      "execution_count": null,
      "outputs": []
    },
    {
      "cell_type": "code",
      "metadata": {
        "id": "sTGgijykcbWt"
      },
      "source": [
        "# lets look at the first few rows\n"
      ],
      "execution_count": null,
      "outputs": []
    },
    {
      "cell_type": "code",
      "metadata": {
        "id": "mWuBCxDxjUjn"
      },
      "source": [
        "## EXERCISE:\n",
        "## calculate the support for the rule below\n",
        "## HINT:  you can use the prior datasets\n",
        "## The Rule: Instant food products -> hamburger meat\n"
      ],
      "execution_count": null,
      "outputs": []
    },
    {
      "cell_type": "code",
      "metadata": {
        "id": "CE8ocEYpjWGy"
      },
      "source": [
        "# of course, because we have a pandas dataframe, its very simple to inspect"
      ],
      "execution_count": null,
      "outputs": []
    },
    {
      "cell_type": "code",
      "metadata": {
        "id": "KIwb6E20jY-N"
      },
      "source": [
        "## Exercise - Take 5 minutes\n",
        "## 1.  sort the rules ascending by lift - print out the first 5\n",
        "## 2.  find the top 10 rules (sorted descending by support) where chewing gum\n",
        "##     is in the RHS\n",
        "\n",
        "## 1\n",
        "\n",
        "\n",
        "\n",
        "## 2 \n"
      ],
      "execution_count": null,
      "outputs": []
    },
    {
      "cell_type": "code",
      "metadata": {
        "id": "DUwhZFfljbNf"
      },
      "source": [
        "## QUICK QUESTION:  From an analyst point of view, why might we want to \n",
        "##                  filter the rules from the start?  Example applications of\n",
        "##                  where we might do this?\n",
        "\n"
      ],
      "execution_count": null,
      "outputs": []
    },
    {
      "cell_type": "code",
      "metadata": {
        "id": "67o2sPdIjbRe"
      },
      "source": [
        "## Visualize the rules \n",
        "## support and lift\n",
        "## as DC noted, this can help you with filtering if you start relatively unpruned\n",
        "\n",
        "# px.scatter(rules, x=\"antecedent support\", y=\"consequent support\", size=\"lift\")"
      ],
      "execution_count": null,
      "outputs": []
    },
    {
      "cell_type": "code",
      "metadata": {
        "id": "rpRvfx4Bjr-R"
      },
      "source": [
        "## we could also look at support/confidence/lift\n",
        "\n",
        "# plt.figure(figsize=(10,4))\n",
        "# sns.scatterplot(data=rules, x=\"support\", y=\"confidence\", hue=\"lift\", alpha=.7)"
      ],
      "execution_count": null,
      "outputs": []
    }
  ]
}