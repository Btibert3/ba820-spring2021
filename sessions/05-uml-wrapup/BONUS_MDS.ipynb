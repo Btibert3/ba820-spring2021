{
  "nbformat": 4,
  "nbformat_minor": 0,
  "metadata": {
    "colab": {
      "name": "BONUS: MDS",
      "private_outputs": true,
      "provenance": [],
      "collapsed_sections": []
    },
    "kernelspec": {
      "name": "python3",
      "display_name": "Python 3"
    }
  },
  "cells": [
    {
      "cell_type": "code",
      "metadata": {
        "id": "9roFEoBdNQCN"
      },
      "source": [
        "######################################################\n",
        "## MDS - MultiDimensional Scaling\n",
        "## \n",
        "## I think of MDS as more of a unsupervized visualization technique\n",
        "## Reduce the dimensions of our data (almost always 2d)\n",
        "## objective is to keep the similar objects close to each other\n",
        "## ------------------------------------\n",
        "## brings back the concept of distance\n",
        "## ------------------------------------\n",
        "## \n",
        "## My first exposure years ago: distances between airports - reconstruct map(metric = true observed distance, default in sklearn)\n",
        "## \n",
        "##\n",
        "## Inputs\n",
        "## a feature/attribute dataset (traditional) or distance matrix (if we pass this, set dissimilarity='precomputed')\n",
        "##\n",
        "## Why MDS?\n",
        "## visual representation of the objects to help understand relationships\n",
        "## Applications\n",
        "## Survey research = ask respondents to rate various items\n",
        "##                   visually represent the items spatially and percieved sim/diffs\n",
        "##                   helps get a sense of the dataset or to show how certain items are related\n",
        "\n"
      ],
      "execution_count": null,
      "outputs": []
    },
    {
      "cell_type": "code",
      "metadata": {
        "id": "qSTjcO20YneK"
      },
      "source": [
        "# bring in the \"classic\" iris dataset\n",
        "iris = load_iris()"
      ],
      "execution_count": null,
      "outputs": []
    },
    {
      "cell_type": "code",
      "metadata": {
        "id": "micipiWAaJlx"
      },
      "source": [
        "type(iris)"
      ],
      "execution_count": null,
      "outputs": []
    },
    {
      "cell_type": "code",
      "metadata": {
        "id": "N93TIBFLaNDg"
      },
      "source": [
        "X = iris.data\n",
        "y = iris.target\n",
        "\n",
        "ylabs = [iris.target_names[i] for i in y]"
      ],
      "execution_count": null,
      "outputs": []
    },
    {
      "cell_type": "code",
      "metadata": {
        "id": "BTw2NND3aUlu"
      },
      "source": [
        "mds = MDS(2)\n",
        "im = mds.fit_transform(X)"
      ],
      "execution_count": null,
      "outputs": []
    },
    {
      "cell_type": "code",
      "metadata": {
        "id": "fp4I5NfUaU42"
      },
      "source": [
        "sns.scatterplot(x=im[:,0], y=im[:,1], hue=ylabs)"
      ],
      "execution_count": null,
      "outputs": []
    },
    {
      "cell_type": "code",
      "metadata": {
        "id": "jxMhRe5GbT9I"
      },
      "source": [
        "# you can see how mds is able to put the data into a 2d space, and \n",
        "# even though its a well discussed dataset, it helps take a 4d dataset\n",
        "# into 2d and helps visuailze the grouping of the categories\n",
        "\n",
        "# This is one of the goals of the UML techniques we will wrap up with.\n",
        "# reduce the space, but keep natural ordering, mostly through the use of distance!\n",
        "\n"
      ],
      "execution_count": null,
      "outputs": []
    },
    {
      "cell_type": "code",
      "metadata": {
        "id": "g0iUE80ukG96"
      },
      "source": [
        "####### MDS Hands-on exericse\n",
        "##\n",
        "## grab the mtcars dataset from Big Query\n",
        "## questrom.datasets.mtcars\n",
        "## apply mds to get 2 new coordinates\n",
        "## plot the new 2d space\n",
        "## BONUS if you can overlay the labels!\n",
        "\n",
        "cars = pd.read_gbq(\"select * from `questrom.datasets.mtcars`\", \"questrom\")\n",
        "\n"
      ],
      "execution_count": null,
      "outputs": []
    },
    {
      "cell_type": "code",
      "metadata": {
        "id": "Su8c6f4OkWmS"
      },
      "source": [
        "# cars.index = cars.model\n",
        "# del cars['model']\n",
        "\n",
        "mds = MDS()\n",
        "ce = mds.fit_transform(cars)"
      ],
      "execution_count": null,
      "outputs": []
    },
    {
      "cell_type": "code",
      "metadata": {
        "id": "ugQCLkizkWu7"
      },
      "source": [
        "type(ce)\n",
        "ce.shape\n",
        "\n",
        "# plot it up\n",
        "plt.figure(figsize=(10,6))\n",
        "sns.scatterplot(x=ce[:,0], y = ce[:,1])\n",
        "for i,model in enumerate(cars.index):\n",
        "  plt.text(x=ce[i, 0], y=ce[i, 1], s=model)\n",
        "plt.show()"
      ],
      "execution_count": null,
      "outputs": []
    },
    {
      "cell_type": "code",
      "metadata": {
        "id": "z9fMjq0pbv2d"
      },
      "source": [
        "###################### MDS summary\n",
        "# other examples - applications\n",
        "# \n",
        "# example of how \"relationahips/distances\" are retained -> \n",
        "#     https://ars.els-cdn.com/content/image/1-s2.0-S092234879680030X-gr1.gif\n",
        "# \n",
        "# example in consumer research ->\n",
        "#     https://46gyn61z4i0t1u1pnq2bbk2e-wpengine.netdna-ssl.com/wp-content/uploads/2018/07/MDS-non-metric.png\n",
        "#     https://www.displayr.com/what-is-multidimensional-scaling-mds/\n",
        "#\n",
        "# Our square datasets tend to talk about distance and summaries of rows (pdist)\n",
        "# but invert it!   transpose the dataset to think about column values, especially when we dummy encode categories\n",
        "# in short, think about what you want to summarize, b/c its all about the axis, not just rows!\n",
        "# \n"
      ],
      "execution_count": null,
      "outputs": []
    }
  ]
}