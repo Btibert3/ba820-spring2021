{
  "nbformat": 4,
  "nbformat_minor": 0,
  "metadata": {
    "colab": {
      "name": "03-clustering2",
      "private_outputs": true,
      "provenance": [],
      "collapsed_sections": []
    },
    "kernelspec": {
      "name": "python3",
      "display_name": "Python 3"
    }
  },
  "cells": [
    {
      "cell_type": "code",
      "metadata": {
        "id": "4IUcMCk2Cqjt"
      },
      "source": [
        "## Learning goals:\n",
        "\n",
        "## Expand on Distance and now apply Kmeans\n",
        "## - Kmeans applications\n",
        "## - Evaluate cluster solutions \n",
        "## - hands on with Kmeans and other approaches"
      ],
      "execution_count": null,
      "outputs": []
    },
    {
      "cell_type": "code",
      "metadata": {
        "id": "KouxlaHQHvi4"
      },
      "source": [
        "# installs\n",
        "\n",
        "# notebook/colab\n",
        "# ! pip install scikit-plot\n",
        "\n",
        "# local/server\n",
        "# pip install scikit-plot"
      ],
      "execution_count": null,
      "outputs": []
    },
    {
      "cell_type": "code",
      "metadata": {
        "id": "XQvMwrkc2XWl"
      },
      "source": [
        "#imports\n",
        "\n",
        "import numpy as np\n",
        "import pandas as pd\n",
        "import seaborn as sns\n",
        "import matplotlib.pyplot as plt\n",
        "\n",
        "# what we need for today\n",
        "from sklearn.cluster import KMeans, DBSCAN\n",
        "from sklearn.neighbors import NearestNeighbors\n",
        "from scipy.cluster.hierarchy import linkage, dendrogram\n",
        "from scipy.cluster.hierarchy import fcluster\n",
        "\n",
        "from sklearn import metrics \n",
        "from sklearn.datasets import make_blobs\n",
        "from sklearn.preprocessing import StandardScaler\n",
        "\n",
        "import scikitplot as skplt\n"
      ],
      "execution_count": null,
      "outputs": []
    },
    {
      "cell_type": "code",
      "metadata": {
        "id": "xMQb466Z8A4H"
      },
      "source": [
        "# warmup exercise\n",
        "\n",
        "# dataset:\n",
        "# https://vincentarelbundock.github.io/Rdatasets/csv/Stat2Data/Election08.csv\n",
        "\n",
        "# task\n",
        "# use hierarchical clustering on the election dataset\n",
        "# keep just the numerical columns\n",
        "# use complete linkage and generate 4 clusters\n",
        "# put back onto the original dataset\n",
        "# profile the number of states by cluster assignment and the % that Obama won"
      ],
      "execution_count": null,
      "outputs": []
    },
    {
      "cell_type": "code",
      "metadata": {
        "id": "DOx2cBdFyqWR"
      },
      "source": [
        "###################\n",
        "###################\n",
        "# KMEANS overview"
      ],
      "execution_count": null,
      "outputs": []
    },
    {
      "cell_type": "code",
      "metadata": {
        "id": "OLUDoCp7z2JQ"
      },
      "source": [
        "# if on colab\n",
        "# connect to Big Query\n",
        "\n",
        "# COLAB Only\n",
        "# from google.colab import auth\n",
        "# auth.authenticate_user()\n",
        "# print('Authenticated')"
      ],
      "execution_count": null,
      "outputs": []
    },
    {
      "cell_type": "code",
      "metadata": {
        "id": "OfAuQYijzAUB"
      },
      "source": [
        "# lets bring in the judges dataset\n",
        "# questrom.datasets.judges\n",
        "# PROJECT = 'questrom'    # <------ change to your project\n",
        "\n",
        "\n",
        "# judges = pd.read_gbq(SQL, PROJECT)\n",
        "  \n",
        "# # make a copy \n",
        "# j = judges.copy()"
      ],
      "execution_count": null,
      "outputs": []
    },
    {
      "cell_type": "code",
      "metadata": {
        "id": "7CNrEOFA0mHx"
      },
      "source": [
        "# quick check\n"
      ],
      "execution_count": null,
      "outputs": []
    },
    {
      "cell_type": "code",
      "metadata": {
        "id": "valCEbmi0on6"
      },
      "source": [
        "# first few rows\n"
      ],
      "execution_count": null,
      "outputs": []
    },
    {
      "cell_type": "code",
      "metadata": {
        "id": "zmQQyNvt0pZC"
      },
      "source": [
        "# info\n"
      ],
      "execution_count": null,
      "outputs": []
    },
    {
      "cell_type": "code",
      "metadata": {
        "id": "3m9kp9iA0suW"
      },
      "source": [
        "# just a preference, but lower case and move judge to the index\n",
        "# j.columns = j.columns.str.lower()\n",
        "\n",
        "# j.index = j.judge\n",
        "# del j['judge']"
      ],
      "execution_count": null,
      "outputs": []
    },
    {
      "cell_type": "code",
      "metadata": {
        "id": "l5spmbwj0xFW"
      },
      "source": [
        "# confirm we things look good\n"
      ],
      "execution_count": null,
      "outputs": []
    },
    {
      "cell_type": "code",
      "metadata": {
        "id": "TUqLkMG101c4"
      },
      "source": [
        "# QUICK THOUGHT EXERCISE:\n",
        "# summarize the values\n",
        "# we talked about scaling the data.  is that needed here?\n"
      ],
      "execution_count": null,
      "outputs": []
    },
    {
      "cell_type": "code",
      "metadata": {
        "id": "KZbXaPgZ1FL3"
      },
      "source": [
        "# scikit learn sytnax\n",
        "# https://s3.amazonaws.com/assets.datacamp.com/blog_assets/Scikit_Learn_Cheat_Sheet_Python.pdf\n",
        "\n",
        "# 1. instantiate an object of the class we need\n",
        "# 2. apply the object our dataset - can think of this as model fitting even for preprocessing\n",
        "# 3. fit/apply the model/task to ANY data"
      ],
      "execution_count": null,
      "outputs": []
    },
    {
      "cell_type": "code",
      "metadata": {
        "id": "_MLJ48qZ1nuL"
      },
      "source": [
        "# Kmeans via sklearn\n",
        "# help(KMeans)\n",
        "# n_init = # of fits with best intertia selected \n",
        "#      ^ Sum of squared distances of samples to their closest cluster center.\n",
        "\n",
        "# instantiate\n",
        "# k3 = KMeans(3)\n",
        "\n",
        "\n"
      ],
      "execution_count": null,
      "outputs": []
    },
    {
      "cell_type": "code",
      "metadata": {
        "id": "RDzoMfWT3oVx"
      },
      "source": [
        "# fit to the the data\n",
        "# k3.fit(j)"
      ],
      "execution_count": null,
      "outputs": []
    },
    {
      "cell_type": "code",
      "metadata": {
        "id": "yYdILKit3t4P"
      },
      "source": [
        "## the output is not an error, just info on the config\n"
      ],
      "execution_count": null,
      "outputs": []
    },
    {
      "cell_type": "code",
      "metadata": {
        "id": "LmcoCqrh4Bhh"
      },
      "source": [
        "# we previously used fcluster to get assignments of clusters per row\n",
        "\n",
        "# get the cluster assignments in sklearn via the predict method\n"
      ],
      "execution_count": null,
      "outputs": []
    },
    {
      "cell_type": "code",
      "metadata": {
        "id": "2skCHsOE4qog"
      },
      "source": [
        "# we didnt save out the assignments\n",
        "# 0-based cluster \"labels\" in the same order of the data we passed in\n",
        "\n",
        "# we can do anything we want with the assignments, including put back onto the data\n",
        "\n",
        "# judges['k3'] = k3_labs"
      ],
      "execution_count": null,
      "outputs": []
    },
    {
      "cell_type": "code",
      "metadata": {
        "id": "tbZxC0Pn5ESD"
      },
      "source": [
        "# quick review\n"
      ],
      "execution_count": null,
      "outputs": []
    },
    {
      "cell_type": "code",
      "metadata": {
        "id": "JdZw2D5d5GCe"
      },
      "source": [
        "# EXERCISE:  \n",
        "#           Your turn!  Fit 5 clusters and add it the judges dataset too\n",
        "#           BONUS: set the number of iterations to 100"
      ],
      "execution_count": null,
      "outputs": []
    },
    {
      "cell_type": "code",
      "metadata": {
        "id": "VAkEe_iZ5bNE"
      },
      "source": [
        "# lets inspect k5\n",
        "\n",
        "# how many iterations were actully run?\n",
        "# k5.n_iter_"
      ],
      "execution_count": null,
      "outputs": []
    },
    {
      "cell_type": "code",
      "metadata": {
        "id": "lc04sK_F5w2T"
      },
      "source": [
        "# we can get cluster centers (by feature)\n",
        "# shape = (# clusters, # features)\n",
        "# k5.cluster_centers_"
      ],
      "execution_count": null,
      "outputs": []
    },
    {
      "cell_type": "code",
      "metadata": {
        "id": "dr76Hsbb7r1g"
      },
      "source": [
        "# quick reference\n"
      ],
      "execution_count": null,
      "outputs": []
    },
    {
      "cell_type": "code",
      "metadata": {
        "id": "aZBm7xRW6Imi"
      },
      "source": [
        "# our dataset has more than 2 dimensions, but lets plot this out\n",
        "# we want to put the cluster centers on top of the first two features\n",
        "\n",
        "# k5_centers = k5.cluster_centers_\n",
        "# sns.scatterplot(data=judges, x=\"CONT\", y=\"INTG\", cmap=\"virdis\", hue=\"k5\")\n",
        "# plt.scatter(k5_centers[:,0], k5_centers[:,1], c=\"g\", s=100)"
      ],
      "execution_count": null,
      "outputs": []
    },
    {
      "cell_type": "code",
      "metadata": {
        "id": "-JQcgqTM7q4_"
      },
      "source": [
        "# remember, our dataset has 12 dimensions, we are trying to force the \n",
        "# centers on top of 2 of the 12 via a scatter"
      ],
      "execution_count": null,
      "outputs": []
    },
    {
      "cell_type": "code",
      "metadata": {
        "id": "lT-JCR1R8S4Z"
      },
      "source": [
        "# EXERCISE:\n",
        "#         https://vincentarelbundock.github.io/Rdatasets/csv/Stat2Data/MedGPA.csv\n",
        "#         the dataset is at the URL above ^^ \n",
        "#         fit 2 clusters [using just the GPA and BS columns]\n",
        "#         (this is a dataset about admissions)\n",
        "#         put the clusters back onto the original datset\n",
        "#         scatterplot of the clusters\n",
        "#             for the plot, color by the cluster assignment\n",
        "#             the marker should be the actual admissions decision (variable = Acceptance)\n",
        "\n"
      ],
      "execution_count": null,
      "outputs": []
    },
    {
      "cell_type": "code",
      "metadata": {
        "id": "cgoYlW1M_UOX"
      },
      "source": [
        "#######################\n",
        "# OK, \n",
        "# lets start to think about cluster evaluation\n",
        "\n",
        "# we are going to focus on intertia and silhouette scores\n",
        "\n",
        "# but for more info, you could consider below when we have known labels (that we choose to ignore_\n",
        "#  Homogeneity and Completeness\n",
        "#  (cluster only has 1 class) vs (all labels for a class are found in 1 cluster)"
      ],
      "execution_count": null,
      "outputs": []
    },
    {
      "cell_type": "code",
      "metadata": {
        "id": "uYksBPoYAd7d"
      },
      "source": [
        "# we have fit two cluster solutions to the judges dataset\n"
      ],
      "execution_count": null,
      "outputs": []
    },
    {
      "cell_type": "code",
      "metadata": {
        "id": "aXf0lE46Akm2"
      },
      "source": [
        "# this is the total sum of squared error for each sample to it's cluster's centroid\n",
        "# we want to minimize this value, and 5 suggests we have a good improvement"
      ],
      "execution_count": null,
      "outputs": []
    },
    {
      "cell_type": "code",
      "metadata": {
        "id": "vZpOKy4UA4KI"
      },
      "source": [
        "# Exericse:\n",
        "#           Take 2 minutes:  Based on what you have know, \n",
        "#           how might you think about evaluating a range of cluster solutions based\n",
        "#           on inertia\n",
        "#           "
      ],
      "execution_count": null,
      "outputs": []
    },
    {
      "cell_type": "code",
      "metadata": {
        "id": "TohKKYDxBK76"
      },
      "source": [
        "# let's code this up\n",
        "\n"
      ],
      "execution_count": null,
      "outputs": []
    },
    {
      "cell_type": "code",
      "metadata": {
        "id": "FcKPixLoCbPP"
      },
      "source": [
        "# plot it up\n"
      ],
      "execution_count": null,
      "outputs": []
    },
    {
      "cell_type": "code",
      "metadata": {
        "id": "AyPBhNZ0CiiQ"
      },
      "source": [
        "# one rule of thumb is the elbow method\n",
        "\n",
        "# we might gain, but if the rate of improvement slows, we might be better off with \"smaller\"/easier solution\n",
        "\n",
        "# logic: if our goal is to create segments, do we really want 1 segment per observation?"
      ],
      "execution_count": null,
      "outputs": []
    },
    {
      "cell_type": "code",
      "metadata": {
        "id": "P6gg9nUYDBGO"
      },
      "source": [
        "# silohouette scores\n",
        "\n",
        "# each observation gets a score\n",
        "# we average across for a metric on the overall cluster solution\n",
        "# we can also plot the fit by cluster/row to evaluate \n"
      ],
      "execution_count": null,
      "outputs": []
    },
    {
      "cell_type": "code",
      "metadata": {
        "id": "26EMkp3fDkzw"
      },
      "source": [
        "# for k5 earlier, lets get the silohouette scores\n",
        "# the original data matrix, and then the labels\n",
        "# silo_overall = metrics.silhouette_score(j, k5.predict(j))\n",
        "\n",
        "# silo_overall"
      ],
      "execution_count": null,
      "outputs": []
    },
    {
      "cell_type": "code",
      "metadata": {
        "id": "PiKxTJ95EVqS"
      },
      "source": [
        "# just like inertia, a metric for the solution, and we can compare\n",
        "# across various K, except we want to maxmize this value"
      ],
      "execution_count": null,
      "outputs": []
    },
    {
      "cell_type": "code",
      "metadata": {
        "id": "B4h2NF_TDrvn"
      },
      "source": [
        "# we can also get it for each observeration\n",
        "\n",
        "# silo_sample = metrics.silhouette_samples(j, k5.predict(j))\n",
        "# silo_sample"
      ],
      "execution_count": null,
      "outputs": []
    },
    {
      "cell_type": "code",
      "metadata": {
        "id": "z2WPY-6ADsjK"
      },
      "source": [
        "# and lets plot this up with skplot\n",
        "\n",
        "# skplt.metrics.plot_silhouette(j, k5.predict(j), figsize=(7,7))"
      ],
      "execution_count": null,
      "outputs": []
    },
    {
      "cell_type": "code",
      "metadata": {
        "id": "oygzmRLKE7JM"
      },
      "source": [
        "# notes\n",
        "# figsize set inside skplot\n",
        "\n",
        "\n",
        "# fit doesnt look too bad, we want positive values, and only not many are\n",
        "\n",
        "# negative values don't tell us the direction of the solution, just that\n",
        "# we may have too many or too few clusters\n",
        "\n",
        "# above is a really good fit, but it doesn't mean it's the best just yet\n",
        "# though the inertia plot suggested an elbow at 5"
      ],
      "execution_count": null,
      "outputs": []
    },
    {
      "cell_type": "code",
      "metadata": {
        "id": "M8_4_LITFZ9n"
      },
      "source": [
        "# just like kmeans, lets test k\n",
        "\n",
        "# KRANGE = range(2, 30)\n",
        "\n",
        "# # containers\n",
        "# ss = []\n",
        "\n",
        "\n",
        "# for k in KRANGE:\n",
        "#   km = KMeans(k)\n",
        "#   lab = km.fit_predict(j)\n",
        "#   ss.append(metrics.silhouette_score(j, lab))\n"
      ],
      "execution_count": null,
      "outputs": []
    },
    {
      "cell_type": "code",
      "metadata": {
        "id": "bQE-nq73Frux"
      },
      "source": [
        "# the plot \n",
        "# sns.lineplot(KRANGE, ss)"
      ],
      "execution_count": null,
      "outputs": []
    },
    {
      "cell_type": "code",
      "metadata": {
        "id": "pTgFuVNzFvNY"
      },
      "source": [
        "############################\n",
        "\n",
        "# Takeaways:\n",
        "\n",
        "# larger number of clusters in both cases decline on both metrics\n",
        "# but we start to flatten out around 5 as well, a good sign\n",
        "\n",
        "# what does this mean?\n",
        "\n",
        "# if our business problem dictates, perhaps 2 is a good solution here, but inconsistent with interia\n",
        "# if our goal is segment into manageable groups for down stream strategic action\n",
        "# we need to balance capability to action on clusters, with \"theoretical\" fit"
      ],
      "execution_count": null,
      "outputs": []
    },
    {
      "cell_type": "code",
      "metadata": {
        "id": "Xc80HFCsHYSj"
      },
      "source": [
        "###################\n",
        "# DBSCAN\n",
        "# https://scikit-learn.org/stable/modules/clustering.html#dbscan\n",
        "\n",
        "# we saw hierarchical approaches\n",
        "# we just ran through a partitioning approach\n",
        "# finally, a density approach\n",
        "\n"
      ],
      "execution_count": null,
      "outputs": []
    },
    {
      "cell_type": "code",
      "metadata": {
        "id": "MtlKRVJH2N-Q"
      },
      "source": [
        "# lets make a fake dataset using sklearn\n",
        "\n",
        "# X, _ = make_blobs(random_state=820)"
      ],
      "execution_count": null,
      "outputs": []
    },
    {
      "cell_type": "code",
      "metadata": {
        "id": "k64iAIhD2hpt"
      },
      "source": [
        "# put this into a dataframe\n",
        "# X = pd.DataFrame(X, columns=['a', 'b'])\n",
        "# sns.scatterplot(data=X, x=\"a\", y=\"b\")"
      ],
      "execution_count": null,
      "outputs": []
    },
    {
      "cell_type": "code",
      "metadata": {
        "id": "ctb3qmmW29bi"
      },
      "source": [
        "# summarize"
      ],
      "execution_count": null,
      "outputs": []
    },
    {
      "cell_type": "code",
      "metadata": {
        "id": "rGgVyRoV3UdH"
      },
      "source": [
        "\n",
        "# lets look at a way to figure out a rough way to determine episolon (the neighborhood boundary)\n",
        "# we can use NearestNeighbors to get distances for a closest point\n",
        "\n",
        "# nb = NearestNeighbors(2)\n",
        "# nbrs = nb.fit(X)\n",
        "\n",
        "# # get the distances to closest point and the indices for each row\n",
        "# distances, indices = nbrs.kneighbors(X)\n",
        "\n",
        "# # sort the rows\n",
        "# distances = np.sort(distances, axis=0)\n",
        "\n",
        "# # we can use the distance\n",
        "# # the first \"column\" is 0, or itself\n",
        "# distances = distances[:,1]\n",
        "\n",
        "\n",
        "# sns.lineplot(range(len(distances)), distances)"
      ],
      "execution_count": null,
      "outputs": []
    },
    {
      "cell_type": "code",
      "metadata": {
        "id": "pYv-DpFH4LJc"
      },
      "source": [
        "# elbow method put into the setup of the approach\n",
        "# very similar to what we have seen already, right? (from sklearn)\n",
        "\n",
        "# db = DBSCAN(eps=.7, min_samples=5)\n",
        "# dbc = db.fit_predict(X)\n",
        "# dbc"
      ],
      "execution_count": null,
      "outputs": []
    },
    {
      "cell_type": "code",
      "metadata": {
        "id": "YfQlUVqt4Q4i"
      },
      "source": [
        "# lets plot it up\n",
        "# X['labels'] = dbc\n",
        "\n",
        "# pal = sns.color_palette(\"husl\", len(np.unique(dbc)))\n",
        "# plt.figure(figsize=(10,6))\n",
        "# sns.scatterplot(data=X, x=\"a\", y=\"b\", hue=\"labels\", palette=pal)"
      ],
      "execution_count": null,
      "outputs": []
    },
    {
      "cell_type": "code",
      "metadata": {
        "id": "WXdG0Z9C4S1y"
      },
      "source": [
        "# Considerations:\n",
        "# of course, we could overlay silhouette score"
      ],
      "execution_count": null,
      "outputs": []
    },
    {
      "cell_type": "code",
      "metadata": {
        "id": "Ue29inke9Ytq"
      },
      "source": [
        "# Thought exercise:\n",
        "# Think about the fact that we generated fake data (and its summary)\n",
        "# What might we try or consider to think about finding a \"better\" solution\n",
        "\n"
      ],
      "execution_count": null,
      "outputs": []
    }
  ]
}